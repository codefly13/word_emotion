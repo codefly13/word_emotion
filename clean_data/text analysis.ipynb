{
 "cells": [
  {
   "cell_type": "code",
   "execution_count": 26,
   "metadata": {
    "collapsed": true
   },
   "outputs": [],
   "source": [
    "import pandas as pd"
   ]
  },
  {
   "cell_type": "code",
   "execution_count": 27,
   "metadata": {
    "collapsed": true
   },
   "outputs": [],
   "source": [
    "data = pd.read_excel(\"../train.xlsx\",index_col=0)"
   ]
  },
  {
   "cell_type": "code",
   "execution_count": 47,
   "metadata": {},
   "outputs": [
    {
     "data": {
      "text/html": [
       "<div>\n",
       "<style>\n",
       "    .dataframe thead tr:only-child th {\n",
       "        text-align: right;\n",
       "    }\n",
       "\n",
       "    .dataframe thead th {\n",
       "        text-align: left;\n",
       "    }\n",
       "\n",
       "    .dataframe tbody tr th {\n",
       "        vertical-align: top;\n",
       "    }\n",
       "</style>\n",
       "<table border=\"1\" class=\"dataframe\">\n",
       "  <thead>\n",
       "    <tr style=\"text-align: right;\">\n",
       "      <th></th>\n",
       "      <th>content-评论内容</th>\n",
       "      <th>theme-主题</th>\n",
       "      <th>sentiment_word-情感关键词</th>\n",
       "      <th>sentiment_anls-情感正负面</th>\n",
       "    </tr>\n",
       "    <tr>\n",
       "      <th>row_id</th>\n",
       "      <th></th>\n",
       "      <th></th>\n",
       "      <th></th>\n",
       "      <th></th>\n",
       "    </tr>\n",
       "  </thead>\n",
       "  <tbody>\n",
       "    <tr>\n",
       "      <th>19996</th>\n",
       "      <td>先说包装特别简陋，产品的 味道刺鼻，不管是洗面奶还沐浴露，洗完之后都有刺疼感，很疼的。你早吗...</td>\n",
       "      <td>NULL;包装;NULL;味道;</td>\n",
       "      <td>很疼;简陋;差;刺鼻;</td>\n",
       "      <td>-1;-1;-1;-1;</td>\n",
       "    </tr>\n",
       "    <tr>\n",
       "      <th>19997</th>\n",
       "      <td>一颗星都不想给，我跟客服反映是假货，客服说，不能拿商标的粗糙性来断定就是假货，也可能是各个地...</td>\n",
       "      <td>反映;NULL;NULL;商标;</td>\n",
       "      <td>假货;假货;磨手;粗糙;</td>\n",
       "      <td>-1;-1;-1;-1;</td>\n",
       "    </tr>\n",
       "    <tr>\n",
       "      <th>19998</th>\n",
       "      <td>提神，或者当爽肤水的用也挺好，关键还能避蚊虫</td>\n",
       "      <td>爽肤水;</td>\n",
       "      <td>挺好;</td>\n",
       "      <td>1;</td>\n",
       "    </tr>\n",
       "    <tr>\n",
       "      <th>19999</th>\n",
       "      <td>太小了，退了，不太适合摄影背</td>\n",
       "      <td>NULL;</td>\n",
       "      <td>不适合;</td>\n",
       "      <td>-1;</td>\n",
       "    </tr>\n",
       "    <tr>\n",
       "      <th>20000</th>\n",
       "      <td>是正品, 效果一般，裸奔更好</td>\n",
       "      <td>NULL;效果;NULL;</td>\n",
       "      <td>正品;一般;更好;</td>\n",
       "      <td>1;0;1;</td>\n",
       "    </tr>\n",
       "  </tbody>\n",
       "</table>\n",
       "</div>"
      ],
      "text/plain": [
       "                                             content-评论内容          theme-主题  \\\n",
       "row_id                                                                        \n",
       "19996   先说包装特别简陋，产品的 味道刺鼻，不管是洗面奶还沐浴露，洗完之后都有刺疼感，很疼的。你早吗...  NULL;包装;NULL;味道;   \n",
       "19997   一颗星都不想给，我跟客服反映是假货，客服说，不能拿商标的粗糙性来断定就是假货，也可能是各个地...  反映;NULL;NULL;商标;   \n",
       "19998                              提神，或者当爽肤水的用也挺好，关键还能避蚊虫              爽肤水;   \n",
       "19999                                      太小了，退了，不太适合摄影背             NULL;   \n",
       "20000                                      是正品, 效果一般，裸奔更好     NULL;效果;NULL;   \n",
       "\n",
       "       sentiment_word-情感关键词 sentiment_anls-情感正负面  \n",
       "row_id                                            \n",
       "19996           很疼;简陋;差;刺鼻;         -1;-1;-1;-1;  \n",
       "19997          假货;假货;磨手;粗糙;         -1;-1;-1;-1;  \n",
       "19998                   挺好;                   1;  \n",
       "19999                  不适合;                  -1;  \n",
       "20000             正品;一般;更好;               1;0;1;  "
      ]
     },
     "execution_count": 47,
     "metadata": {},
     "output_type": "execute_result"
    }
   ],
   "source": [
    "data.tail()"
   ]
  },
  {
   "cell_type": "markdown",
   "metadata": {},
   "source": [
    "## 文本以分号划分为列表"
   ]
  },
  {
   "cell_type": "code",
   "execution_count": 29,
   "metadata": {
    "scrolled": true
   },
   "outputs": [
    {
     "data": {
      "text/plain": [
       "row_id\n",
       "1                          [NULL, 送货速度, 服务]\n",
       "2                           [加热时间, 安装费, 用户]\n",
       "3                              [NULL, NULL]\n",
       "4                              [NULL, NULL]\n",
       "5                            [效果, 服务, NULL]\n",
       "6                                      [na]\n",
       "7                               [钢化膜, NULL]\n",
       "8                          [NULL, 制冷, NULL]\n",
       "9                                      [电流]\n",
       "10                               [电视, NULL]\n",
       "11                                     [送货]\n",
       "12                       [质量, NULL, 期望, 价格]\n",
       "13                               [颜色, NULL]\n",
       "14                                [NULL, 线]\n",
       "15                                     [表带]\n",
       "16                               [物流, NULL]\n",
       "17       [服务, NULL, 制冷效果, 噪音控制, 安装师傅, NULL]\n",
       "18                                     [na]\n",
       "19                                   [NULL]\n",
       "20                                     [服务]\n",
       "21                                     [商品]\n",
       "22                                     [na]\n",
       "23                           [质量, NULL, 速度]\n",
       "24                       [NULL, NULL, NULL]\n",
       "25                                   [清洁功能]\n",
       "26                                   [NULL]\n",
       "27                       [NULL, NULL, 京东自营]\n",
       "28                         [NULL, NULL, 物流]\n",
       "29                               [NULL, 味道]\n",
       "30                                     [na]\n",
       "                        ...                \n",
       "19971                                  [吸收]\n",
       "19972                          [质量, 充电, 价格]\n",
       "19973            [NULL, 感觉, 肥皂, NULL, NULL]\n",
       "19974                          [发货, 墨盒, 试机]\n",
       "19975                            [标签, NULL]\n",
       "19976                              [东西, 宝贝]\n",
       "19977                          [NULL, NULL]\n",
       "19978                          [NULL, NULL]\n",
       "19979                              [价格, 安装]\n",
       "19980                            [塑料, NULL]\n",
       "19981                          [盒子, 梳子, 颜色]\n",
       "19982                      [烟, NULL, 介绍, 烟]\n",
       "19983                              [味道, 做工]\n",
       "19984                                  [na]\n",
       "19985                            [NULL, 味道]\n",
       "19986                              [价格, 品质]\n",
       "19987                      [拖把, NULL, NULL]\n",
       "19988                                [NULL]\n",
       "19989              [NULL, NULL, NULL, NULL]\n",
       "19990                        [整体, NULL, 客服]\n",
       "19991                          [NULL, NULL]\n",
       "19992                                  [na]\n",
       "19993                        [成本, NULL, 退货]\n",
       "19994                                  [na]\n",
       "19995                              [退货, 质量]\n",
       "19996                  [NULL, 包装, NULL, 味道]\n",
       "19997                  [反映, NULL, NULL, 商标]\n",
       "19998                                 [爽肤水]\n",
       "19999                                [NULL]\n",
       "20000                      [NULL, 效果, NULL]\n",
       "Name: theme-主题, Length: 20000, dtype: object"
      ]
     },
     "execution_count": 29,
     "metadata": {},
     "output_type": "execute_result"
    }
   ],
   "source": [
    "theme = data['theme-主题'].map(lambda x: str(x).strip()[:-1].split(\";\"))\n",
    "theme"
   ]
  },
  {
   "cell_type": "code",
   "execution_count": 30,
   "metadata": {
    "collapsed": true
   },
   "outputs": [],
   "source": [
    "sentiment_word = data['sentiment_word-情感关键词'].map(lambda x: str(x).strip()[:-1].split(\";\"))\n",
    "sentiment_anls = data['sentiment_anls-情感正负面'].map(lambda x: str(x).strip()[:-1].split(\";\"))"
   ]
  },
  {
   "cell_type": "markdown",
   "metadata": {},
   "source": [
    "## 统计na比例，主题缺失率\n",
    "## 留下主题不为空的记录"
   ]
  },
  {
   "cell_type": "code",
   "execution_count": 40,
   "metadata": {
    "scrolled": false
   },
   "outputs": [],
   "source": [
    "all_theme_num = 0; \n",
    "new_data=[]\n",
    "nan_row_num = 0\n",
    "null_num = 0\n",
    "null_row_num = 0\n",
    "row_remain = []\n",
    "data_remain = []\n",
    "all_sentiment_word = []\n",
    "all_theme = []\n",
    "for idx in theme.index:\n",
    "    theme_list = theme[idx];\n",
    "    theme_remain=[]\n",
    "    word_remain=[]\n",
    "    anls_remain=[]\n",
    "    if \"na\" == theme_list[0]:\n",
    "        nan_row_num+=1\n",
    "    else:\n",
    "        for loc, t in enumerate(theme_list):\n",
    "            all_theme_num+=1\n",
    "            try:\n",
    "                if t == \"NULL\":\n",
    "                    null_num+=1\n",
    "                else:\n",
    "                    theme_remain.append(t)\n",
    "                    word_remain.append(sentiment_word[idx][loc])\n",
    "                    anls_remain.append(sentiment_anls[idx][loc])\n",
    "                    \n",
    "                    all_sentiment_word.append(sentiment_word[idx][loc])\n",
    "                    all_theme.append(t)\n",
    "            except IndexError:\n",
    "                print(idx)\n",
    "                print(theme_list)\n",
    "                print(sentiment_anls[idx])\n",
    "    if len(theme_remain) == 0:\n",
    "        null_row_num+=1\n",
    "    else:\n",
    "        row_remain.append(idx)\n",
    "        data_remain.append([idx,theme_remain,word_remain,anls_remain])\n",
    "        new_data.append([data.ix[idx,\"content-评论内容\"], \";\".join(theme_remain), \";\".join(word_remain), \";\".join(anls_remain)])"
   ]
  },
  {
   "cell_type": "code",
   "execution_count": 41,
   "metadata": {
    "collapsed": true
   },
   "outputs": [],
   "source": [
    "new_data = pd.DataFrame(new_data, index=row_remain, columns=data.columns)"
   ]
  },
  {
   "cell_type": "code",
   "execution_count": 48,
   "metadata": {},
   "outputs": [
    {
     "name": "stderr",
     "output_type": "stream",
     "text": [
      "D:\\Anaconda3\\lib\\site-packages\\ipykernel_launcher.py:1: DeprecationWarning: \n",
      ".ix is deprecated. Please use\n",
      ".loc for label based indexing or\n",
      ".iloc for positional indexing\n",
      "\n",
      "See the documentation here:\n",
      "http://pandas.pydata.org/pandas-docs/stable/indexing.html#deprecate_ix\n",
      "  \"\"\"Entry point for launching an IPython kernel.\n"
     ]
    },
    {
     "data": {
      "text/plain": [
       "content-评论内容            是正品, 效果一般，裸奔更好\n",
       "theme-主题                            效果\n",
       "sentiment_word-情感关键词                一般\n",
       "sentiment_anls-情感正负面                 0\n",
       "Name: 20000, dtype: object"
      ]
     },
     "execution_count": 48,
     "metadata": {},
     "output_type": "execute_result"
    }
   ],
   "source": [
    "new_data.ix[20000]"
   ]
  },
  {
   "cell_type": "code",
   "execution_count": 42,
   "metadata": {
    "collapsed": true
   },
   "outputs": [],
   "source": [
    "new_data.to_excel(\"new_data.xlsx\")"
   ]
  },
  {
   "cell_type": "code",
   "execution_count": 43,
   "metadata": {},
   "outputs": [
    {
     "data": {
      "text/plain": [
       "(7551, 0.37755)"
      ]
     },
     "execution_count": 43,
     "metadata": {},
     "output_type": "execute_result"
    }
   ],
   "source": [
    "miss_ratio = null_row_num/data.shape[0]\n",
    "null_row_num, miss_ratio"
   ]
  },
  {
   "cell_type": "code",
   "execution_count": 35,
   "metadata": {},
   "outputs": [
    {
     "data": {
      "text/plain": [
       "(21283, 0.4915242494226328)"
      ]
     },
     "execution_count": 35,
     "metadata": {},
     "output_type": "execute_result"
    }
   ],
   "source": [
    "miss_theme_ratio = null_num/all_theme_num\n",
    "null_num, miss_theme_ratio"
   ]
  },
  {
   "cell_type": "code",
   "execution_count": 36,
   "metadata": {
    "scrolled": true
   },
   "outputs": [
    {
     "data": {
      "text/plain": [
       "不错       1772\n",
       "好         979\n",
       "很好        951\n",
       "一般        503\n",
       "可以        465\n",
       "快         437\n",
       "还可以       399\n",
       "慢         391\n",
       "不好        369\n",
       "很快        345\n",
       "差         337\n",
       "挺好        296\n",
       "还行        281\n",
       "满意        218\n",
       "太差        212\n",
       "喜欢        187\n",
       "高         186\n",
       "坏         180\n",
       "方便        178\n",
       "垃圾        167\n",
       "值得        160\n",
       "很多        158\n",
       "很大        150\n",
       "便宜        146\n",
       "不值        131\n",
       "不行        130\n",
       "给力        130\n",
       "漂亮        130\n",
       "还好        125\n",
       "清晰        120\n",
       "         ... \n",
       "不能享受        1\n",
       "磨叽          1\n",
       "费时间         1\n",
       "不均衡         1\n",
       "没有满意        1\n",
       "不真皮         1\n",
       "好笑          1\n",
       "没精细         1\n",
       "旧版          1\n",
       "满目疮痍        1\n",
       "舒心          1\n",
       "不关心         1\n",
       "猛烈          1\n",
       "不怎么明显       1\n",
       "没法用         1\n",
       "安定          1\n",
       "没什么保障       1\n",
       "不一般长        1\n",
       "无损          1\n",
       "不是耐用        1\n",
       "不会仔细        1\n",
       "不够持久        1\n",
       "不能长         1\n",
       "不如安静        1\n",
       "好丑          1\n",
       "大失所望        1\n",
       "洪亮          1\n",
       "争气          1\n",
       "扯蛋          1\n",
       "安慰          1\n",
       "Name: count, Length: 2055, dtype: int64"
      ]
     },
     "execution_count": 36,
     "metadata": {},
     "output_type": "execute_result"
    }
   ],
   "source": [
    "all_sentiment_word = pd.DataFrame(all_sentiment_word)\n",
    "word_count = all_sentiment_word.iloc[:,0].value_counts()\n",
    "word_count.name=\"count\"\n",
    "word_count.to_excel(\"word_count.xlsx\")\n",
    "word_count"
   ]
  },
  {
   "cell_type": "code",
   "execution_count": 37,
   "metadata": {},
   "outputs": [
    {
     "data": {
      "text/plain": [
       "质量      1089\n",
       "感觉       909\n",
       "东西       748\n",
       "价格       499\n",
       "效果       490\n",
       "包装       485\n",
       "味道       467\n",
       "物流       451\n",
       "快递       253\n",
       "觉得       247\n",
       "做工       246\n",
       "安装       231\n",
       "性价比      222\n",
       "产品       219\n",
       "服务       211\n",
       "外观       208\n",
       "用着       203\n",
       "手机       203\n",
       "颜色       200\n",
       "使用       194\n",
       "购物       190\n",
       "京东       176\n",
       "购买       170\n",
       "速度       167\n",
       "送货       161\n",
       "电视       150\n",
       "发货       150\n",
       "看着       147\n",
       "声音       144\n",
       "亚马逊      138\n",
       "        ... \n",
       "富安娜        1\n",
       "去污         1\n",
       "雨刷器        1\n",
       "鞋带         1\n",
       "刺痛感        1\n",
       "小米手环       1\n",
       "卡簧         1\n",
       "整齐度        1\n",
       "内核         1\n",
       "电容         1\n",
       "平底锅        1\n",
       "体型         1\n",
       "罐头         1\n",
       "收货速度       1\n",
       "华数         1\n",
       "人脸解锁       1\n",
       "车轮         1\n",
       "开裂         1\n",
       "声响         1\n",
       "美菱         1\n",
       "羽绒被        1\n",
       "有效期        1\n",
       "间距         1\n",
       "指钩         1\n",
       "冷风         1\n",
       "脱毛效果       1\n",
       "粉饼         1\n",
       "折痕         1\n",
       "护脚贴        1\n",
       "墨量         1\n",
       "Name: count, Length: 1959, dtype: int64"
      ]
     },
     "execution_count": 37,
     "metadata": {},
     "output_type": "execute_result"
    }
   ],
   "source": [
    "all_theme = pd.DataFrame(all_theme)\n",
    "theme_count = all_theme.iloc[:,0].value_counts()\n",
    "theme_count.name=\"count\"\n",
    "theme_count.to_excel(\"theme_count.xlsx\")\n",
    "theme_count"
   ]
  },
  {
   "cell_type": "code",
   "execution_count": 38,
   "metadata": {},
   "outputs": [
    {
     "data": {
      "text/html": [
       "<div>\n",
       "<style>\n",
       "    .dataframe thead tr:only-child th {\n",
       "        text-align: right;\n",
       "    }\n",
       "\n",
       "    .dataframe thead th {\n",
       "        text-align: left;\n",
       "    }\n",
       "\n",
       "    .dataframe tbody tr th {\n",
       "        vertical-align: top;\n",
       "    }\n",
       "</style>\n",
       "<table border=\"1\" class=\"dataframe\">\n",
       "  <thead>\n",
       "    <tr style=\"text-align: right;\">\n",
       "      <th></th>\n",
       "      <th>record_num</th>\n",
       "      <th>available num</th>\n",
       "      <th>miss_record</th>\n",
       "      <th>miss_record_ratio</th>\n",
       "      <th>miss_theme</th>\n",
       "      <th>miss_theme_ratio</th>\n",
       "    </tr>\n",
       "  </thead>\n",
       "  <tbody>\n",
       "    <tr>\n",
       "      <th>0</th>\n",
       "      <td>20000</td>\n",
       "      <td>12449</td>\n",
       "      <td>7551</td>\n",
       "      <td>0.37755</td>\n",
       "      <td>21283</td>\n",
       "      <td>0.491524</td>\n",
       "    </tr>\n",
       "  </tbody>\n",
       "</table>\n",
       "</div>"
      ],
      "text/plain": [
       "   record_num  available num  miss_record  miss_record_ratio  miss_theme  \\\n",
       "0       20000          12449         7551            0.37755       21283   \n",
       "\n",
       "   miss_theme_ratio  \n",
       "0          0.491524  "
      ]
     },
     "execution_count": 38,
     "metadata": {},
     "output_type": "execute_result"
    }
   ],
   "source": [
    "original_data_info = pd.DataFrame([[data.shape[0], new_data.shape[0], null_row_num, miss_ratio, null_num, miss_theme_ratio]], \\\n",
    "             columns=[\"record_num\", \"available num\", \"miss_record\", \"miss_record_ratio\", \"miss_theme\", \"miss_theme_ratio\"])\n",
    "original_data_info.to_excel(\"original_data_info.xlsx\")\n",
    "original_data_info"
   ]
  },
  {
   "cell_type": "code",
   "execution_count": 39,
   "metadata": {},
   "outputs": [
    {
     "data": {
      "text/plain": [
       "20000"
      ]
     },
     "execution_count": 39,
     "metadata": {},
     "output_type": "execute_result"
    }
   ],
   "source": [
    "data.shape[0]"
   ]
  },
  {
   "cell_type": "code",
   "execution_count": null,
   "metadata": {
    "collapsed": true
   },
   "outputs": [],
   "source": []
  },
  {
   "cell_type": "code",
   "execution_count": 46,
   "metadata": {},
   "outputs": [],
   "source": [
    "import pickle as pkl\n",
    "file = open(\"reference_emotion.pkl\",\"wb\")\n",
    "pkl.dump(data_remain, file)\n",
    "file.close()"
   ]
  },
  {
   "cell_type": "code",
   "execution_count": null,
   "metadata": {
    "collapsed": true
   },
   "outputs": [],
   "source": []
  }
 ],
 "metadata": {
  "kernelspec": {
   "display_name": "Python 3",
   "language": "python",
   "name": "python3"
  },
  "language_info": {
   "codemirror_mode": {
    "name": "ipython",
    "version": 3
   },
   "file_extension": ".py",
   "mimetype": "text/x-python",
   "name": "python",
   "nbconvert_exporter": "python",
   "pygments_lexer": "ipython3",
   "version": "3.6.1"
  }
 },
 "nbformat": 4,
 "nbformat_minor": 2
}
