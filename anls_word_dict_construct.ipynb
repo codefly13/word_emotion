{
 "cells": [
  {
   "cell_type": "code",
   "execution_count": 60,
   "metadata": {
    "collapsed": true
   },
   "outputs": [],
   "source": [
    "import pandas as pd"
   ]
  },
  {
   "cell_type": "code",
   "execution_count": 61,
   "metadata": {
    "collapsed": true
   },
   "outputs": [],
   "source": [
    "from collections import defaultdict"
   ]
  },
  {
   "cell_type": "code",
   "execution_count": 62,
   "metadata": {
    "collapsed": true
   },
   "outputs": [],
   "source": [
    "import pickle as pkl"
   ]
  },
  {
   "cell_type": "markdown",
   "metadata": {},
   "source": [
    "## hownet文件夹的情感词，分成正面和负面情感词"
   ]
  },
  {
   "cell_type": "code",
   "execution_count": 63,
   "metadata": {
    "collapsed": true
   },
   "outputs": [],
   "source": [
    "columns=[\"词语\",\"程度级别词语（中文）.txt\",\"负面评价词语（中文）.txt\",\"负面情感词语（中文）.txt\"\n",
    "         ,\"正面评价词语（中文）.txt\",\"正面情感词语（中文）.txt\",\"主张词语（中文）.txt\"]"
   ]
  },
  {
   "cell_type": "code",
   "execution_count": 64,
   "metadata": {},
   "outputs": [
    {
     "data": {
      "text/plain": [
       "['程度级别词语（中文）.txt']"
      ]
     },
     "execution_count": 64,
     "metadata": {},
     "output_type": "execute_result"
    }
   ],
   "source": [
    "columns[1:2]"
   ]
  },
  {
   "cell_type": "code",
   "execution_count": 65,
   "metadata": {
    "collapsed": true
   },
   "outputs": [],
   "source": [
    "anls_word_dict = defaultdict(list)"
   ]
  },
  {
   "cell_type": "markdown",
   "metadata": {},
   "source": [
    "#### 文本变成列表"
   ]
  },
  {
   "cell_type": "code",
   "execution_count": 66,
   "metadata": {
    "collapsed": true
   },
   "outputs": [],
   "source": [
    "for name in columns[1:]:\n",
    "    cnt = 0\n",
    "    file = open(\"./hownet/\" + name, \"r\")\n",
    "    for d in file:\n",
    "        s1 = d.find(\"“\")\n",
    "        t1 = d.find(\"”\")\n",
    "        if s1 != -1 and t1 != -1:\n",
    "            word_list = d[s1:t1].split(\"|\")\n",
    "        else:\n",
    "            word_list = d.strip().split()\n",
    "        if word_list == []:\n",
    "            continue\n",
    "        else:\n",
    "            anls_word_dict[name.split(\".\")[0]].extend(word_list)\n",
    "#             print(word)"
   ]
  },
  {
   "cell_type": "code",
   "execution_count": 67,
   "metadata": {
    "scrolled": true
   },
   "outputs": [
    {
     "data": {
      "text/plain": [
       "dict_keys(['程度级别词语（中文）', '负面评价词语（中文）', '负面情感词语（中文）', '正面评价词语（中文）', '正面情感词语（中文）', '主张词语（中文）'])"
      ]
     },
     "execution_count": 67,
     "metadata": {},
     "output_type": "execute_result"
    }
   ],
   "source": [
    "anls_word_dict.keys()"
   ]
  },
  {
   "cell_type": "code",
   "execution_count": 68,
   "metadata": {
    "collapsed": true
   },
   "outputs": [],
   "source": [
    "anls_word_dict['正面情感词语（中文）'] = set(anls_word_dict['正面评价词语（中文）']) | set(anls_word_dict['正面情感词语（中文）'])\n",
    "anls_word_dict['负面情感词语（中文）'] = set(anls_word_dict['负面评价词语（中文）']) | set(anls_word_dict['负面情感词语（中文）'])\n",
    "word_list = set(anls_word_dict['负面情感词语（中文）']) | set(anls_word_dict['正面情感词语（中文）'])\n",
    "if '负面评价词语（中文）' in anls_word_dict:\n",
    "    del anls_word_dict['负面评价词语（中文）']\n",
    "if '正面评价词语（中文）' in anls_word_dict:\n",
    "    del anls_word_dict['正面评价词语（中文）']\n",
    "if '程度级别词语（中文）' in anls_word_dict:\n",
    "    del anls_word_dict['程度级别词语（中文）']\n",
    "if '主张词语（中文）' in anls_word_dict:\n",
    "    del anls_word_dict['主张词语（中文）']"
   ]
  },
  {
   "cell_type": "code",
   "execution_count": 69,
   "metadata": {},
   "outputs": [
    {
     "data": {
      "text/plain": [
       "dict_keys(['负面情感词语（中文）', '正面情感词语（中文）'])"
      ]
     },
     "execution_count": 69,
     "metadata": {},
     "output_type": "execute_result"
    }
   ],
   "source": [
    "anls_word_dict.keys()"
   ]
  },
  {
   "cell_type": "markdown",
   "metadata": {},
   "source": [
    "##### 情感词作为dataframe的index"
   ]
  },
  {
   "cell_type": "code",
   "execution_count": 70,
   "metadata": {
    "collapsed": true
   },
   "outputs": [],
   "source": [
    "word = set(anls_word_dict['正面情感词语（中文）']) | set(anls_word_dict['负面情感词语（中文）'])"
   ]
  },
  {
   "cell_type": "code",
   "execution_count": 71,
   "metadata": {
    "collapsed": true
   },
   "outputs": [],
   "source": [
    "anls_word_table = pd.DataFrame(index=word,columns=list(anls_word_dict.keys())).fillna(0)"
   ]
  },
  {
   "cell_type": "code",
   "execution_count": 72,
   "metadata": {
    "scrolled": true
   },
   "outputs": [
    {
     "name": "stderr",
     "output_type": "stream",
     "text": [
      "D:\\Anaconda3\\lib\\site-packages\\ipykernel_launcher.py:5: DeprecationWarning: \n",
      ".ix is deprecated. Please use\n",
      ".loc for label based indexing or\n",
      ".iloc for positional indexing\n",
      "\n",
      "See the documentation here:\n",
      "http://pandas.pydata.org/pandas-docs/stable/indexing.html#deprecate_ix\n",
      "  \"\"\"\n"
     ]
    }
   ],
   "source": [
    "for key in anls_word_dict:\n",
    "    if key == '正面情感词语（中文）':\n",
    "        anls_word_table.ix[anls_word_dict[key], [key]] = 1\n",
    "    elif key == '负面情感词语（中文）':\n",
    "        anls_word_table.ix[anls_word_dict[key], [key]] = 1"
   ]
  },
  {
   "cell_type": "code",
   "execution_count": 73,
   "metadata": {},
   "outputs": [],
   "source": [
    "anls_word_table['中性情感词语（中文）'] = 0"
   ]
  },
  {
   "cell_type": "code",
   "execution_count": 74,
   "metadata": {},
   "outputs": [
    {
     "data": {
      "text/html": [
       "<div>\n",
       "<style>\n",
       "    .dataframe thead tr:only-child th {\n",
       "        text-align: right;\n",
       "    }\n",
       "\n",
       "    .dataframe thead th {\n",
       "        text-align: left;\n",
       "    }\n",
       "\n",
       "    .dataframe tbody tr th {\n",
       "        vertical-align: top;\n",
       "    }\n",
       "</style>\n",
       "<table border=\"1\" class=\"dataframe\">\n",
       "  <thead>\n",
       "    <tr style=\"text-align: right;\">\n",
       "      <th></th>\n",
       "      <th>负面情感词语（中文）</th>\n",
       "      <th>正面情感词语（中文）</th>\n",
       "      <th>中性情感词语（中文）</th>\n",
       "    </tr>\n",
       "  </thead>\n",
       "  <tbody>\n",
       "    <tr>\n",
       "      <th>满目疮痍</th>\n",
       "      <td>1</td>\n",
       "      <td>0</td>\n",
       "      <td>0</td>\n",
       "    </tr>\n",
       "    <tr>\n",
       "      <th>冷销</th>\n",
       "      <td>1</td>\n",
       "      <td>0</td>\n",
       "      <td>0</td>\n",
       "    </tr>\n",
       "    <tr>\n",
       "      <th>谒</th>\n",
       "      <td>0</td>\n",
       "      <td>1</td>\n",
       "      <td>0</td>\n",
       "    </tr>\n",
       "    <tr>\n",
       "      <th>烦</th>\n",
       "      <td>1</td>\n",
       "      <td>0</td>\n",
       "      <td>0</td>\n",
       "    </tr>\n",
       "    <tr>\n",
       "      <th>浪荡</th>\n",
       "      <td>1</td>\n",
       "      <td>0</td>\n",
       "      <td>0</td>\n",
       "    </tr>\n",
       "  </tbody>\n",
       "</table>\n",
       "</div>"
      ],
      "text/plain": [
       "      负面情感词语（中文）  正面情感词语（中文）  中性情感词语（中文）\n",
       "满目疮痍           1           0           0\n",
       "冷销             1           0           0\n",
       "谒              0           1           0\n",
       "烦              1           0           0\n",
       "浪荡             1           0           0"
      ]
     },
     "execution_count": 74,
     "metadata": {},
     "output_type": "execute_result"
    }
   ],
   "source": [
    "anls_word_table.head()"
   ]
  },
  {
   "cell_type": "code",
   "execution_count": null,
   "metadata": {
    "collapsed": true
   },
   "outputs": [],
   "source": []
  },
  {
   "cell_type": "markdown",
   "metadata": {},
   "source": [
    "## 使用训练集的情感词，来扩充词典"
   ]
  },
  {
   "cell_type": "code",
   "execution_count": 75,
   "metadata": {},
   "outputs": [],
   "source": [
    "file = open(\"./clean_data/reference_emotion.pkl\",\"rb\")\n",
    "data_remain=pkl.load(file)\n",
    "file.close()"
   ]
  },
  {
   "cell_type": "code",
   "execution_count": 76,
   "metadata": {},
   "outputs": [],
   "source": [
    "for i,themes,emotions,anls in data_remain:\n",
    "    for j, a_emotion in enumerate(emotions):\n",
    "        anl = int(anls[j])\n",
    "        if  a_emotion not in anls_word_table.index:\n",
    "            anls_word_table.ix[a_emotion,:]=0\n",
    "        if anl == 1:\n",
    "            anls_word_table.ix[a_emotion, ['正面情感词语（中文）']]=1\n",
    "        elif anl == -1:\n",
    "            anls_word_table.ix[a_emotion, ['负面情感词语（中文）']]=1\n",
    "        else:\n",
    "            anls_word_table.ix[a_emotion, ['中性情感词语（中文）']]=1\n",
    "            anls_word_dict['中性情感词语（中文）'].append(a_emotion)"
   ]
  },
  {
   "cell_type": "code",
   "execution_count": 77,
   "metadata": {},
   "outputs": [
    {
     "data": {
      "text/plain": [
       "array([ 0.,  1.])"
      ]
     },
     "execution_count": 77,
     "metadata": {},
     "output_type": "execute_result"
    }
   ],
   "source": [
    "anls_word_table['中性情感词语（中文）'].unique()"
   ]
  },
  {
   "cell_type": "code",
   "execution_count": 78,
   "metadata": {},
   "outputs": [
    {
     "data": {
      "text/plain": [
       "dict_keys(['负面情感词语（中文）', '正面情感词语（中文）', '中性情感词语（中文）'])"
      ]
     },
     "execution_count": 78,
     "metadata": {},
     "output_type": "execute_result"
    }
   ],
   "source": [
    "anls_word_dict.keys()"
   ]
  },
  {
   "cell_type": "code",
   "execution_count": 79,
   "metadata": {
    "collapsed": true
   },
   "outputs": [],
   "source": [
    "anls_word_table.to_csv(\"anls_word_table.csv\")"
   ]
  },
  {
   "cell_type": "code",
   "execution_count": 80,
   "metadata": {
    "scrolled": true
   },
   "outputs": [
    {
     "data": {
      "text/html": [
       "<div>\n",
       "<style>\n",
       "    .dataframe thead tr:only-child th {\n",
       "        text-align: right;\n",
       "    }\n",
       "\n",
       "    .dataframe thead th {\n",
       "        text-align: left;\n",
       "    }\n",
       "\n",
       "    .dataframe tbody tr th {\n",
       "        vertical-align: top;\n",
       "    }\n",
       "</style>\n",
       "<table border=\"1\" class=\"dataframe\">\n",
       "  <thead>\n",
       "    <tr style=\"text-align: right;\">\n",
       "      <th></th>\n",
       "      <th>负面情感词语（中文）</th>\n",
       "      <th>正面情感词语（中文）</th>\n",
       "      <th>中性情感词语（中文）</th>\n",
       "    </tr>\n",
       "  </thead>\n",
       "  <tbody>\n",
       "    <tr>\n",
       "      <th>不易裂开</th>\n",
       "      <td>0.0</td>\n",
       "      <td>1.0</td>\n",
       "      <td>0.0</td>\n",
       "    </tr>\n",
       "    <tr>\n",
       "      <th>容易干</th>\n",
       "      <td>1.0</td>\n",
       "      <td>0.0</td>\n",
       "      <td>0.0</td>\n",
       "    </tr>\n",
       "    <tr>\n",
       "      <th>没保障</th>\n",
       "      <td>1.0</td>\n",
       "      <td>0.0</td>\n",
       "      <td>0.0</td>\n",
       "    </tr>\n",
       "    <tr>\n",
       "      <th>不是均匀</th>\n",
       "      <td>1.0</td>\n",
       "      <td>0.0</td>\n",
       "      <td>0.0</td>\n",
       "    </tr>\n",
       "    <tr>\n",
       "      <th>不香</th>\n",
       "      <td>1.0</td>\n",
       "      <td>0.0</td>\n",
       "      <td>0.0</td>\n",
       "    </tr>\n",
       "  </tbody>\n",
       "</table>\n",
       "</div>"
      ],
      "text/plain": [
       "      负面情感词语（中文）  正面情感词语（中文）  中性情感词语（中文）\n",
       "不易裂开         0.0         1.0         0.0\n",
       "容易干          1.0         0.0         0.0\n",
       "没保障          1.0         0.0         0.0\n",
       "不是均匀         1.0         0.0         0.0\n",
       "不香           1.0         0.0         0.0"
      ]
     },
     "execution_count": 80,
     "metadata": {},
     "output_type": "execute_result"
    }
   ],
   "source": [
    "anls_word_table.tail()"
   ]
  },
  {
   "cell_type": "code",
   "execution_count": null,
   "metadata": {
    "collapsed": true
   },
   "outputs": [],
   "source": []
  },
  {
   "cell_type": "code",
   "execution_count": 81,
   "metadata": {
    "collapsed": true
   },
   "outputs": [],
   "source": [
    "file = open(\"anls_word_dict.pkl\",\"wb\")\n",
    "pkl.dump(anls_word_dict, file)\n",
    "file.close()"
   ]
  },
  {
   "cell_type": "code",
   "execution_count": null,
   "metadata": {
    "collapsed": true
   },
   "outputs": [],
   "source": []
  },
  {
   "cell_type": "code",
   "execution_count": 82,
   "metadata": {},
   "outputs": [
    {
     "data": {
      "text/plain": [
       "['NULL', 'NULL', 'NULL']"
      ]
     },
     "execution_count": 82,
     "metadata": {},
     "output_type": "execute_result"
    }
   ],
   "source": [
    "['NULL']*3"
   ]
  }
 ],
 "metadata": {
  "kernelspec": {
   "display_name": "Python 3",
   "language": "python",
   "name": "python3"
  },
  "language_info": {
   "codemirror_mode": {
    "name": "ipython",
    "version": 3
   },
   "file_extension": ".py",
   "mimetype": "text/x-python",
   "name": "python",
   "nbconvert_exporter": "python",
   "pygments_lexer": "ipython3",
   "version": "3.6.1"
  }
 },
 "nbformat": 4,
 "nbformat_minor": 2
}
